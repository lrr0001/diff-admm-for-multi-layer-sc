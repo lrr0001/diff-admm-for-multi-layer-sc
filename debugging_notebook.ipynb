{
 "cells": [
  {
   "cell_type": "code",
   "execution_count": 1,
   "metadata": {},
   "outputs": [],
   "source": [
    "import pickle\n",
    "import z_update_layer\n",
    "from tensorflow.keras.utils import to_categorical\n",
    "from tensorflow.keras.models import Sequential, Model\n",
    "from tensorflow.keras.layers import Dense, Flatten\n",
    "import numpy as np\n",
    "import tensorflow as tf\n",
    "import tensorflow.keras.optimizers\n"
   ]
  },
  {
   "cell_type": "code",
   "execution_count": 2,
   "metadata": {},
   "outputs": [],
   "source": [
    "import pickle\n",
    "with open(\"/home/richertlr/Documents/summer2019/cifar-10-batches-py/data_batch_1\",'rb') as fo:\n",
    "    dict=pickle.load(fo,encoding=\"bytes\")"
   ]
  },
  {
   "cell_type": "code",
   "execution_count": 3,
   "metadata": {},
   "outputs": [],
   "source": [
    "with open(\"/home/richertlr/Documents/summer2019/cifar-10-batches-py/test_batch\",\"rb\") as fo2:\n",
    "    dict2=pickle.load(fo2,encoding=\"bytes\")"
   ]
  },
  {
   "cell_type": "code",
   "execution_count": 4,
   "metadata": {},
   "outputs": [],
   "source": [
    "temp = np.reshape(dict[b'data']/255,[10000,3,32,32])\n",
    "x_input = np.transpose(temp,(0,2,3,1))\n",
    "temp = np.reshape(dict2[b'data']/255,[-1,3,32,32])\n",
    "x_val = np.transpose(temp,(0,2,3,1))"
   ]
  },
  {
   "cell_type": "code",
   "execution_count": 5,
   "metadata": {},
   "outputs": [],
   "source": [
    "labels = to_categorical(dict[b'labels'])\n",
    "labels_val = to_categorical(dict2[b'labels'])"
   ]
  },
  {
   "cell_type": "code",
   "execution_count": 6,
   "metadata": {},
   "outputs": [],
   "source": [
    "#model = Sequential()\n",
    "#model.add(z_update_layer.multilayerADMMsparseCodingTightFrame([32,32],[[5,5],[4,4]],[[2,2]],1.,.2,24,input_shape=(None,32,32,3)))\n",
    "#model.add(tf.keras.layers.MaxPooling2D(pool_size=[2,2],strides=[1,1],padding='valid'))\n",
    "#model.add(tf.keras.layers.Conv2D(filters=32,kernel_size=[3,3],strides=[1,1],padding='valid',activation='relu'))\n",
    "#model.add(tf.keras.layers.MaxPooling2D(pool_size=[2,2],strides=[1,1],padding='valid'))\n",
    "#model.add(tf.keras.layers.Conv2D(filters=32,kernel_size=[3,3],strides=[1,1],padding='valid',activation='relu'))\n",
    "#model.add(tf.keras.layers.MaxPooling2D(pool_size=[2,2],strides=[1,1],padding='valid'))\n",
    "#model.add(tf.keras.layers.Conv2D(filters=32,kernel_size=[3,3],strides=[1,1],padding='valid',activation='relu'))\n",
    "#model.add(tf.keras.layers.MaxPooling2D(pool_size=[2,2],strides=[1,1],padding='valid'))\n",
    "#model.add(Flatten())\n",
    "#model.add(Dense(10,activation='softmax'))"
   ]
  },
  {
   "cell_type": "code",
   "execution_count": 7,
   "metadata": {},
   "outputs": [
    {
     "name": "stdout",
     "output_type": "stream",
     "text": [
      "WARNING:tensorflow:From /home/richertlr/anaconda3/lib/python3.7/site-packages/tensorflow/python/ops/resource_variable_ops.py:435: colocate_with (from tensorflow.python.framework.ops) is deprecated and will be removed in a future version.\n",
      "Instructions for updating:\n",
      "Colocations handled automatically by placer.\n"
     ]
    }
   ],
   "source": [
    "inputLayer = tensorflow.keras.Input(shape=(32,32,3))\n",
    "x,reconInputLayer = z_update_layer.multilayerADMMsparseCodingTightFrame([32,32],[[5,5],[4,4]],[[2,2]],1.,.2,5)(inputLayer)\n",
    "x2 = tf.keras.layers.MaxPooling2D(pool_size=[2,2],strides=[1,1],padding='valid')(x)\n",
    "x3 = tf.keras.layers.Conv2D(filters=32,kernel_size=[3,3],strides=[1,1],padding='valid',activation='relu')(x2)\n",
    "x4 = tf.keras.layers.MaxPooling2D(pool_size=[2,2],strides=[1,1],padding='valid')(x3)\n",
    "x5 = tf.keras.layers.Conv2D(filters=32,kernel_size=[3,3],strides=[1,1],padding='valid',activation='relu')(x4)\n",
    "x6 = tf.keras.layers.MaxPooling2D(pool_size=[2,2],strides=[1,1],padding='valid')(x5)\n",
    "x7 = tf.keras.layers.Conv2D(filters=32,kernel_size=[3,3],strides=[1,1],padding='valid',activation='relu')(x6)\n",
    "x8 = tf.keras.layers.MaxPooling2D(pool_size=[2,2],strides=[1,1],padding='valid')(x7)\n",
    "x9 = Flatten()(x8)\n",
    "y = Dense(10,activation='softmax')(x9)\n",
    "\n",
    "model = Model(inputs=inputLayer,outputs=y)\n",
    "#model.add_loss(0.00001*z_update_layer.cropped_l2_loss(inputLayer,reconInputLayer))"
   ]
  },
  {
   "cell_type": "code",
   "execution_count": 8,
   "metadata": {},
   "outputs": [],
   "source": [
    "#tf.GraphKeys.LOSSES"
   ]
  },
  {
   "cell_type": "code",
   "execution_count": null,
   "metadata": {},
   "outputs": [
    {
     "name": "stdout",
     "output_type": "stream",
     "text": [
      "Train on 10000 samples, validate on 10000 samples\n",
      "WARNING:tensorflow:From /home/richertlr/anaconda3/lib/python3.7/site-packages/tensorflow/python/ops/math_ops.py:3066: to_int32 (from tensorflow.python.ops.math_ops) is deprecated and will be removed in a future version.\n",
      "Instructions for updating:\n",
      "Use tf.cast instead.\n",
      "WARNING:tensorflow:From /home/richertlr/anaconda3/lib/python3.7/site-packages/tensorflow/python/ops/math_grad.py:102: div (from tensorflow.python.ops.math_ops) is deprecated and will be removed in a future version.\n",
      "Instructions for updating:\n",
      "Deprecated in favor of operator or tf.math.divide.\n",
      "Epoch 1/16\n",
      " 9984/10000 [============================>.] - ETA: 2s - loss: 14.4612"
     ]
    }
   ],
   "source": [
    "sgd = tf.keras.optimizers.SGD(lr=0.0001, decay=0.000125, momentum=0.5, nesterov=True)\n",
    "model.compile(optimizer='sgd', loss='categorical_crossentropy')\n",
    "model.fit(x_input, labels, epochs=16, batch_size=32, validation_data=(x_val,labels_val))"
   ]
  },
  {
   "cell_type": "code",
   "execution_count": 15,
   "metadata": {},
   "outputs": [],
   "source": [
    "a = tf.constant([1,2,3])"
   ]
  },
  {
   "cell_type": "code",
   "execution_count": 8,
   "metadata": {},
   "outputs": [
    {
     "ename": "NameError",
     "evalue": "name 'tensorflow' is not defined",
     "output_type": "error",
     "traceback": [
      "\u001b[0;31m---------------------------------------------------------------------------\u001b[0m",
      "\u001b[0;31mNameError\u001b[0m                                 Traceback (most recent call last)",
      "\u001b[0;32m<ipython-input-8-c537a18cf25b>\u001b[0m in \u001b[0;36m<module>\u001b[0;34m\u001b[0m\n\u001b[0;32m----> 1\u001b[0;31m \u001b[0ma\u001b[0m \u001b[0;34m=\u001b[0m \u001b[0mtensorflow\u001b[0m\u001b[0;34m.\u001b[0m\u001b[0mconstant\u001b[0m\u001b[0;34m(\u001b[0m\u001b[0;34m[\u001b[0m\u001b[0;36m1\u001b[0m\u001b[0;34m,\u001b[0m\u001b[0;36m2\u001b[0m\u001b[0;34m,\u001b[0m\u001b[0;36m3\u001b[0m\u001b[0;34m]\u001b[0m\u001b[0;34m)\u001b[0m\u001b[0;34m\u001b[0m\u001b[0;34m\u001b[0m\u001b[0m\n\u001b[0m",
      "\u001b[0;31mNameError\u001b[0m: name 'tensorflow' is not defined"
     ]
    }
   ],
   "source": [
    "a = tensorflow.constant([1,2,3])"
   ]
  },
  {
   "cell_type": "code",
   "execution_count": 9,
   "metadata": {},
   "outputs": [],
   "source": [
    "import tensorflow\n",
    "a = tensorflow.constant([1,2,3])"
   ]
  },
  {
   "cell_type": "code",
   "execution_count": 12,
   "metadata": {},
   "outputs": [
    {
     "data": {
      "text/plain": [
       "array([2, 4, 6], dtype=int32)"
      ]
     },
     "execution_count": 12,
     "metadata": {},
     "output_type": "execute_result"
    }
   ],
   "source": [
    "sess = Session()\n",
    "sess.run(a*2)"
   ]
  },
  {
   "cell_type": "code",
   "execution_count": null,
   "metadata": {},
   "outputs": [],
   "source": []
  }
 ],
 "metadata": {
  "kernelspec": {
   "display_name": "Python 3",
   "language": "python",
   "name": "python3"
  },
  "language_info": {
   "codemirror_mode": {
    "name": "ipython",
    "version": 3
   },
   "file_extension": ".py",
   "mimetype": "text/x-python",
   "name": "python",
   "nbconvert_exporter": "python",
   "pygments_lexer": "ipython3",
   "version": "3.7.3"
  }
 },
 "nbformat": 4,
 "nbformat_minor": 2
}
